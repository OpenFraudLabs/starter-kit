{
 "cells": [
  {
   "cell_type": "markdown",
   "id": "african-fraud",
   "metadata": {},
   "source": [
    "# Fraud Model Training Tutorial\n",
    "## Using OpenFraudLabs Dataset\n",
    "\n",
    "### Step 1: Load Data"
   ]
  },
  {
   "cell_type": "code",
   "execution_count": null,
   "id": "load-data",
   "metadata": {},
   "outputs": [],
   "source": [
    "import pandas as pd\n",
    "\n",
    "# Load starter kit dataset\n",
    "df = pd.read_csv('https://raw.githubusercontent.com/OpenFraudLabs/starter-kit/main/african-transaction-dataset.csv')\n",
    "df.head()"
   ]
  },
  {
   "cell_type": "markdown",
   "id": "preprocessing",
   "metadata": {},
   "source": [
    "### Step 2: Basic Feature Engineering"
   ]
  },
  {
   "cell_type": "code",
   "execution_count": null,
   "id": "feature-engineering",
   "metadata": {},
   "outputs": [],
   "source": [
    "# Add risk flags\n",
    "df['high_value'] = df['amount'] > 10000\n",
    "df['cross_border'] = df['country'] != 'NG'  # Example: Nigerian base\n",
    "\n",
    "print(df[['transaction_id', 'high_value', 'cross_border']].head())"
   ]
  }
 ],
 "metadata": {
  "kernelspec": {
   "display_name": "Python 3",
   "language": "python",
   "name": "python3"
  }
 },
 "nbformat": 4,
 "nbformat_minor": 5
}
