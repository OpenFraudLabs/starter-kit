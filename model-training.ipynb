{
 "cells": [
  {
   "cell_type": "markdown",
   "metadata": {},
   "source": [
    "# Fraud Detection Model Training\n",
    "## Using Local Dataset\n",
    "\n",
    "### Step 1: Load Data\n",
    "```python\n",
    "import pandas as pd\n",
    "df = pd.read_csv('african-transaction-dataset.csv')\n",
    "df.head()\n",
    "```"
   ]
  },
  {
   "cell_type": "markdown",
   "metadata": {},
   "source": [
    "### Step 2: Train Basic Model\n",
    "```python\n",
    "from sklearn.ensemble import RandomForestClassifier\n",
    "\n",
    "model = RandomForestClassifier()\n",
    "model.fit(df[['amount']], df['is_fraud'])\n",
    "```"
   ]
  },
  {
   "cell_type": "markdown",
   "metadata": {},
   "source": [
    "### Step 3: Test Prediction\n",
    "```python\n",
    "print(\"Prediction for ₦80,000 transaction:\", \n",
    "      \"Fraud\" if model.predict([[80000]])[0] else \"Legit\")\n",
    "```"
   ]
  }
 ],
 "metadata": {
  "kernelspec": {
   "display_name": "Python 3",
   "language": "python",
   "name": "python3"
  }
 },
 "nbformat": 4,
 "nbformat_minor": 5
}
